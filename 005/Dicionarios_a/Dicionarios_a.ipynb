{
 "cells": [
  {
   "cell_type": "markdown",
   "metadata": {},
   "source": [
    "### Introdução aos Dicionários\n",
    "É um tipo de lista não ordenada na qual cada elemento está associado a uma chave. <br>\n",
    "A chave poderá ser um número, nome, ou objeto que esteja vinculado a um valor pré definido. A chave é um valor imutável por isso ela poderá ser uma string, um número float, uma tupla ou um número int. Por exemplo: <br>\n",
    "Chave      Valor <br>\n",
    "\"a\"        \"Nabucodonozor\" <br>\n",
    "33.2       \"Emetério\" <br>\n",
    "(10, 20)   \"Gudélia\" <br>\n",
    "(\"str\")    \"Pancrácio\" <br>\n",
    "5          \"Jurema\" <br>"
   ]
  },
  {
   "cell_type": "markdown",
   "metadata": {},
   "source": [
    "Os Dicionários estão representados por chaves. <br>\n",
    "Dicionário vazio"
   ]
  },
  {
   "cell_type": "code",
   "execution_count": 2,
   "metadata": {},
   "outputs": [
    {
     "name": "stdout",
     "output_type": "stream",
     "text": [
      "{}\n",
      "<class 'dict'>\n"
     ]
    }
   ],
   "source": [
    "d1 = {}\n",
    "print(d1)\n",
    "print(type(d1))"
   ]
  },
  {
   "cell_type": "markdown",
   "metadata": {},
   "source": [
    "Os colchetes não representam uma lista e sim a posição ou índice (chave) do dicionário."
   ]
  },
  {
   "cell_type": "code",
   "execution_count": 3,
   "metadata": {},
   "outputs": [
    {
     "name": "stdout",
     "output_type": "stream",
     "text": [
      "{'1.1': 1000, '2.2': 2000, '3': 3000}\n",
      "2000\n"
     ]
    }
   ],
   "source": [
    "d1['1.1'] = 1000\n",
    "d1['2.2'] = 2000\n",
    "d1['3'] = 3000\n",
    "print(d1)\n",
    "print(d1['2.2'])"
   ]
  },
  {
   "cell_type": "markdown",
   "metadata": {},
   "source": [
    "Neste exemplo as chaves são strings e os valores são números float."
   ]
  },
  {
   "cell_type": "code",
   "execution_count": 4,
   "metadata": {},
   "outputs": [
    {
     "name": "stdout",
     "output_type": "stream",
     "text": [
      "{'alface': 0.45, 'batata': 1.2, 'tomate': 2.3, 'feijão': 1.5}\n"
     ]
    }
   ],
   "source": [
    "tabela = {'alface' : 0.45, 'batata': 1.2, 'tomate' : 2.3, 'feijão' : 1.5}\n",
    "print(tabela)"
   ]
  },
  {
   "cell_type": "code",
   "execution_count": 5,
   "metadata": {},
   "outputs": [
    {
     "name": "stdout",
     "output_type": "stream",
     "text": [
      "2.3\n",
      "0.45\n",
      "dict_values([0.45, 1.2, 2.3, 1.5])\n",
      "dict_keys(['alface', 'batata', 'tomate', 'feijão'])\n"
     ]
    }
   ],
   "source": [
    "print(tabela[\"tomate\"])\n",
    "print(tabela['alface'])\n",
    "print(tabela.values())\n",
    "print(tabela.keys())"
   ]
  },
  {
   "cell_type": "markdown",
   "metadata": {},
   "source": [
    "<b>Funções dos Dicionários</b> <br>\n",
    "Dicionário de números de telefones vinculado às pessoas.<br>\n",
    "Os valores são armazenados aleatoriamente. Não há ordenação.<br>"
   ]
  },
  {
   "cell_type": "code",
   "execution_count": 6,
   "metadata": {},
   "outputs": [],
   "source": [
    "tel = {\n",
    "    30301122: 'Nabucodonozor',\n",
    "    33548877: 'Emetério',\n",
    "    33381245: 'Gudélia',\n",
    "    36458899: 'Pancrácio',\n",
    "    30352847: 'Jurema'\n",
    "}"
   ]
  },
  {
   "cell_type": "code",
   "execution_count": 7,
   "metadata": {},
   "outputs": [
    {
     "name": "stdout",
     "output_type": "stream",
     "text": [
      "{30301122: 'Nabucodonozor', 33548877: 'Emetério', 33381245: 'Gudélia', 36458899: 'Pancrácio', 30352847: 'Jurema'}\n"
     ]
    }
   ],
   "source": [
    "print(tel)"
   ]
  },
  {
   "cell_type": "markdown",
   "metadata": {},
   "source": [
    "Função para determinar quantidade de elementos de um Dicionários."
   ]
  },
  {
   "cell_type": "code",
   "execution_count": 8,
   "metadata": {},
   "outputs": [
    {
     "name": "stdout",
     "output_type": "stream",
     "text": [
      "5\n"
     ]
    }
   ],
   "source": [
    "print(len(tel))"
   ]
  },
  {
   "cell_type": "markdown",
   "metadata": {},
   "source": [
    "Removendo um elemento do Dicicionário"
   ]
  },
  {
   "cell_type": "code",
   "execution_count": 9,
   "metadata": {},
   "outputs": [
    {
     "name": "stdout",
     "output_type": "stream",
     "text": [
      "{30301122: 'Nabucodonozor', 33548877: 'Emetério', 33381245: 'Gudélia', 30352847: 'Jurema'}\n"
     ]
    }
   ],
   "source": [
    "del(tel[36458899])\n",
    "print(tel)"
   ]
  },
  {
   "cell_type": "markdown",
   "metadata": {},
   "source": [
    "Retornando a lista de chaves de uma dicionário"
   ]
  },
  {
   "cell_type": "code",
   "execution_count": 10,
   "metadata": {},
   "outputs": [
    {
     "name": "stdout",
     "output_type": "stream",
     "text": [
      "dict_keys([30301122, 33548877, 33381245, 30352847])\n"
     ]
    }
   ],
   "source": [
    "print(tel.keys())"
   ]
  },
  {
   "cell_type": "markdown",
   "metadata": {},
   "source": [
    "Retornando a lista de valores de uma dicionário"
   ]
  },
  {
   "cell_type": "code",
   "execution_count": 11,
   "metadata": {},
   "outputs": [
    {
     "name": "stdout",
     "output_type": "stream",
     "text": [
      "dict_values(['Nabucodonozor', 'Emetério', 'Gudélia', 'Jurema'])\n"
     ]
    }
   ],
   "source": [
    "print(tel.values())"
   ]
  },
  {
   "cell_type": "markdown",
   "metadata": {},
   "source": [
    "Retornando o nome vinculado ao telefone 30301122 <br>\n",
    "Nabucodonozor"
   ]
  },
  {
   "cell_type": "code",
   "execution_count": 12,
   "metadata": {},
   "outputs": [
    {
     "name": "stdout",
     "output_type": "stream",
     "text": [
      "Nabucodonozor\n"
     ]
    }
   ],
   "source": [
    "print(tel[30301122])"
   ]
  },
  {
   "cell_type": "markdown",
   "metadata": {},
   "source": [
    "Usando a função get() para retonar o nome vinculado a uma chave."
   ]
  },
  {
   "cell_type": "code",
   "execution_count": 13,
   "metadata": {},
   "outputs": [
    {
     "name": "stdout",
     "output_type": "stream",
     "text": [
      "Nabucodonozor\n"
     ]
    }
   ],
   "source": [
    "print(tel.get(30301122))"
   ]
  },
  {
   "cell_type": "markdown",
   "metadata": {},
   "source": [
    "A função popitem() exibe um elemento e o exclui do dicionário da última posição do dicionário, neste caso, Jurema foi excluída."
   ]
  },
  {
   "cell_type": "code",
   "execution_count": 14,
   "metadata": {},
   "outputs": [
    {
     "name": "stdout",
     "output_type": "stream",
     "text": [
      "(30352847, 'Jurema')\n",
      "{30301122: 'Nabucodonozor', 33548877: 'Emetério', 33381245: 'Gudélia'}\n"
     ]
    }
   ],
   "source": [
    "print(tel.popitem())\n",
    "print(tel)"
   ]
  },
  {
   "cell_type": "markdown",
   "metadata": {},
   "source": [
    "Excluindo um próximo item do dicionário, neste caso, Gudélia foi excluída."
   ]
  },
  {
   "cell_type": "code",
   "execution_count": 15,
   "metadata": {},
   "outputs": [
    {
     "name": "stdout",
     "output_type": "stream",
     "text": [
      "(33381245, 'Gudélia')\n",
      "{30301122: 'Nabucodonozor', 33548877: 'Emetério'}\n"
     ]
    }
   ],
   "source": [
    "print(tel.popitem())\n",
    "print(tel)"
   ]
  },
  {
   "cell_type": "markdown",
   "metadata": {},
   "source": [
    "#### Operadores in e not in"
   ]
  },
  {
   "cell_type": "code",
   "execution_count": null,
   "metadata": {},
   "outputs": [],
   "source": [
    "tel = {\n",
    "    30301122: 'Nabucodonozor',\n",
    "    33548877: 'Emetério',\n",
    "    33381245: 'Gudélia',\n",
    "    36458899: 'Pancrácio',\n",
    "    30352847: 'Jurema'\n",
    "}"
   ]
  },
  {
   "cell_type": "markdown",
   "metadata": {},
   "source": [
    "Verifica se o número de telefone 35458899 está contido no dicionário tel"
   ]
  },
  {
   "cell_type": "code",
   "execution_count": null,
   "metadata": {},
   "outputs": [],
   "source": [
    "print(35458899 in tel)"
   ]
  },
  {
   "cell_type": "markdown",
   "metadata": {},
   "source": [
    "#### Mesclando dicionários. \n",
    "A função <b>update</b> adiciona todos os elementos do segundo dicionário, tel2 para o primeiro, tel."
   ]
  },
  {
   "cell_type": "code",
   "execution_count": 16,
   "metadata": {},
   "outputs": [
    {
     "name": "stdout",
     "output_type": "stream",
     "text": [
      "{30301122: 'Nabucodonozor', 33548877: 'Emetério', 30459846: 'Adamastor', 34873151: 'Agapita'}\n"
     ]
    }
   ],
   "source": [
    "tel2 = {30459846: 'Adamastor', 34873151: 'Agapita'}\n",
    "tel.update(tel2)\n",
    "print(tel)"
   ]
  },
  {
   "cell_type": "markdown",
   "metadata": {},
   "source": [
    "Adicionando uma tupla ao dicionário. <br>\n",
    "A tupla será uma das chaves do dicionário e a string 'Python' o seu valor."
   ]
  },
  {
   "cell_type": "code",
   "execution_count": 17,
   "metadata": {},
   "outputs": [
    {
     "name": "stdout",
     "output_type": "stream",
     "text": [
      "{30301122: 'Nabucodonozor', 33548877: 'Emetério', 30459846: 'Adamastor', 34873151: 'Agapita', (10, 9, 8): 'Python'}\n"
     ]
    }
   ],
   "source": [
    "t = (10, 9, 8)\n",
    "tel[t] = 'Python'\n",
    "print(tel)"
   ]
  },
  {
   "cell_type": "markdown",
   "metadata": {},
   "source": [
    "Uma lista nunca poderá ser a chave de um dicionário porque a lista é mutável. "
   ]
  },
  {
   "cell_type": "markdown",
   "metadata": {},
   "source": [
    "#### Exercício"
   ]
  },
  {
   "cell_type": "markdown",
   "metadata": {},
   "source": [
    "Em Python podemos ter dicionários nos quais as chaves são associadas a listas ou mesmo a outros dicionários. <br>\n",
    "Imagine uma relação de estoque de mercadorias onde teríamos, além, do preço, a quantidade em estoque.<br>\n",
    "Uma aplicação seria processarmos uma lista de operações para calcular o preço total de venda, atualizando também a quantidade em estoque."
   ]
  },
  {
   "cell_type": "code",
   "execution_count": 18,
   "metadata": {},
   "outputs": [
    {
     "name": "stdout",
     "output_type": "stream",
     "text": [
      "(['tomate', 5], ['batata', 10], ['alface', 5])\n",
      "Vendas: \n",
      "\n",
      "      tomate:   5 x   2.30 =  11.50\n",
      "      batata:  10 x   1.20 =  12.00\n",
      "      alface:   5 x   0.45 =   2.25\n",
      " Custo Total:                 25.75\n",
      "\n",
      "Estoque:\n",
      "\n",
      "Descrição:  tomate\n",
      "Quantidade:  995\n",
      "Preço:   2.30\n",
      "\n",
      "Descrição:  alface\n",
      "Quantidade:  495\n",
      "Preço:   0.45\n",
      "\n",
      "Descrição:  batata\n",
      "Quantidade:  1991\n",
      "Preço:   1.20\n",
      "\n",
      "Descrição:  feijão\n",
      "Quantidade:  100\n",
      "Preço:   1.50\n",
      "\n"
     ]
    }
   ],
   "source": [
    "estoque = {\n",
    "    'tomate': [1000, 2.30],\n",
    "    'alface': [500, 0.45],\n",
    "    'batata': [2001, 1.20],\n",
    "    'feijão': [100, 1.5]}\n",
    "venda = ['tomate', 5], ['batata', 10], ['alface', 5 ]\n",
    "print(venda)\n",
    "total = 0\n",
    "print('Vendas: \\n')\n",
    "for operacao in venda:\n",
    "    # Operação de desempacotamento. Como a variável operacao resgata uma lista\n",
    "    # de dois elementos, ao escrevermos produto, quantidade\n",
    "    # teremos o primeiro elemento da variável operacao atribuído a\n",
    "    # produto; e o segundo, à quantidade.\n",
    "    produto, quantidade = operacao\n",
    "    # Utilizamos o conteúdo de produto como chave no dicionário\n",
    "    # estoque. Como nossos dados são uma lista, escolhemos o\n",
    "    # segundo elemento, que armazena o preço do referido produto.\n",
    "    preco = estoque[produto][1]\n",
    "    custo = preco * quantidade\n",
    "    print(\"%12s: %3d x %6.2f = %6.2f\" % (produto, quantidade, preco, custo))\n",
    "    # Atualização da quantidade no estoque subtraindo a\n",
    "    # quantidade vendida do estoque atual.\n",
    "    estoque[produto][0] -= quantidade\n",
    "    total += custo\n",
    "print(\" Custo Total: %21.2f\\n\" % total)\n",
    "print(\"Estoque:\\n\")\n",
    "# Utilizamos o método items() do objeto dicionário. Ele retorna\n",
    "# uma tupla contendo a chave e o valor de cada item armazenado\n",
    "# no dicionário. Usando um 'for' com duas variáveis, chave e dados\n",
    "# efetuamos o desempacontamento desses valores em uma só passagem,\n",
    "# com as devidas quantidades com baixa no estoque.\n",
    "for chave, dados in estoque.items():\n",
    "    print(\"Descrição: \", chave)\n",
    "    print(\"Quantidade: \", dados[0])\n",
    "    print(\"Preço: %6.2f\\n\" % dados[1])"
   ]
  },
  {
   "cell_type": "code",
   "execution_count": null,
   "metadata": {},
   "outputs": [],
   "source": []
  }
 ],
 "metadata": {
  "kernelspec": {
   "display_name": "Python 3 (ipykernel)",
   "language": "python",
   "name": "python3"
  },
  "language_info": {
   "codemirror_mode": {
    "name": "ipython",
    "version": 3
   },
   "file_extension": ".py",
   "mimetype": "text/x-python",
   "name": "python",
   "nbconvert_exporter": "python",
   "pygments_lexer": "ipython3",
   "version": "3.12.6"
  }
 },
 "nbformat": 4,
 "nbformat_minor": 4
}
