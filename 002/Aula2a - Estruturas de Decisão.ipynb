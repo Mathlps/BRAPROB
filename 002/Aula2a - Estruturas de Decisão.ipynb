{
 "cells": [
  {
   "cell_type": "markdown",
   "metadata": {},
   "source": [
    "### Aula2 - Exemplos sobre Estruturas de Decisão"
   ]
  },
  {
   "cell_type": "markdown",
   "metadata": {},
   "source": [
    "### Comando if\n",
    "Comando cuja função é a de realizar um teste sob uma condição inserida no programa. O resultado deste teste será um retorno verdadeiro ou falso. Isso irá determinar o caminho que o fluxo do programa irá seguir"
   ]
  },
  {
   "cell_type": "markdown",
   "metadata": {},
   "source": [
    "#### Espaçamento ou Indentação: \n",
    "Toda vez que digitamos : (dois pontos), iniciamos um novo bloco de instruções.\n",
    "No Python, a indentação é o espaçamanto em relação à margem esquerda que realiza o controle de fluxo do programa e do nível hierárquico dos blocos.\n",
    "A indentação possui quatro espaços ou uma tabulação.\n",
    "Se o nível hierárquico estiver errado, o programa passa a ter um comportamento diferente do que deveria ter."
   ]
  },
  {
   "cell_type": "markdown",
   "metadata": {},
   "source": [
    "#### Exemplo 1\n",
    "Escreva um programa que pergunte a velocidade do carro de um\n",
    "motorista. Caso a velocidade ultrapasse 80 km/h, exiba uma\n",
    "mensagem dizendo que o motorista foi multado. Neste caso,\n",
    "exiba o valor da multa, cobrando R$ 5,00 por km acima de\n",
    "80 km/h."
   ]
  },
  {
   "cell_type": "code",
   "execution_count": 1,
   "metadata": {},
   "outputs": [
    {
     "ename": "ValueError",
     "evalue": "could not convert string to float: ''",
     "output_type": "error",
     "traceback": [
      "\u001b[1;31m---------------------------------------------------------------------------\u001b[0m",
      "\u001b[1;31mValueError\u001b[0m                                Traceback (most recent call last)",
      "Cell \u001b[1;32mIn[1], line 1\u001b[0m\n\u001b[1;32m----> 1\u001b[0m velocidade\u001b[38;5;241m=\u001b[39m\u001b[38;5;28mfloat\u001b[39m(\u001b[38;5;28minput\u001b[39m(\u001b[38;5;124m\"\u001b[39m\u001b[38;5;124mqual e a velocidade em km/h?\u001b[39m\u001b[38;5;124m\"\u001b[39m))\n\u001b[0;32m      2\u001b[0m \u001b[38;5;28;01mif\u001b[39;00m(velocidade\u001b[38;5;241m>\u001b[39m\u001b[38;5;241m80\u001b[39m):\n\u001b[0;32m      3\u001b[0m     \u001b[38;5;28mprint\u001b[39m(\u001b[38;5;124m\"\u001b[39m\u001b[38;5;124mVOCE FOI MULTADO\u001b[39m\u001b[38;5;124m\"\u001b[39m)\n",
      "\u001b[1;31mValueError\u001b[0m: could not convert string to float: ''"
     ]
    }
   ],
   "source": [
    "velocidade=float(input(\"qual e a velocidade em km/h?\"))\n",
    "if(velocidade>80):\n",
    "    print(\"VOCE FOI MULTADO\")\n",
    "    print(\"sera cobrando R$ 5,00 por cada km acima de 80 km/h.\")\n",
    "\n"
   ]
  },
  {
   "cell_type": "markdown",
   "metadata": {},
   "source": [
    "#### Exemplo 2"
   ]
  },
  {
   "cell_type": "markdown",
   "metadata": {},
   "source": [
    "Normalmente o brasileiro paga Imposto de Renda na fonte por faixa de salário. Imagine que para salários menores que 1.412,00 reais não teríamos imposto a pagar, ou seja, alíquota 0%. Para salários entre 1.412,00 e 3.800,00 reais pagaríamos 20%. Acima destes valores, a alíquota seria de 35%.\n",
    "Por exemplo: quem ganha 4.000,00 reais tem os primeiros 1.412,00 reais isentos. Já na faixa entre 1.412,00 e 3.800,00 reais o contribuinte irá pagar 20% de imposto.  Acima de 3.800,00 reais será pago 35%.\n",
    "Faça um programa que entre com o salário de uma pessoa e resolva este problema."
   ]
  },
  {
   "cell_type": "code",
   "execution_count": null,
   "metadata": {},
   "outputs": [],
   "source": []
  },
  {
   "cell_type": "markdown",
   "metadata": {},
   "source": [
    "### Comando else\n",
    "Comando utilizado em conjunto com o comando if. Ele será utilizado pelo fluxo do programa caso a condição do testada no comando if for falsa."
   ]
  },
  {
   "cell_type": "markdown",
   "metadata": {},
   "source": [
    "#### Exemplo 3"
   ]
  },
  {
   "cell_type": "markdown",
   "metadata": {},
   "source": [
    "Desenvolver um programa para calcular a conta de telefone celular da empresa Tchau.\n",
    "Os planos da empresa Tchau são bastantes interessantes e oferecen preços diferenciados de acordo com a quantidade de minutos \n",
    "usados por mês. \n",
    "Abaixo de 200 minutos, a empresa cobra 0,20 centavos por minuto. Entre 200 e 400 minutos a tarifa é de 0,18 centavos. \n",
    "Acima de 400 minutos, a tarifa por minuto é de 0,15 centavos.\n",
    "O programa deverá entrar com a quantidade de minutos utilizada por um usuário e calcular quanto ele irá pagar."
   ]
  },
  {
   "cell_type": "code",
   "execution_count": null,
   "metadata": {},
   "outputs": [],
   "source": []
  },
  {
   "cell_type": "markdown",
   "metadata": {},
   "source": [
    "### Comando elif"
   ]
  },
  {
   "cell_type": "markdown",
   "metadata": {},
   "source": [
    "Este comando é utilizado quando existir com comando if dentro de um else. Em vez de trabalhar com else e dentro dele um if, então, utiliza-se o comando elif que resume o código."
   ]
  },
  {
   "cell_type": "markdown",
   "metadata": {},
   "source": [
    "#### Exemplo 4"
   ]
  },
  {
   "cell_type": "code",
   "execution_count": null,
   "metadata": {},
   "outputs": [],
   "source": []
  },
  {
   "cell_type": "markdown",
   "metadata": {},
   "source": [
    "#### Exemplo 5"
   ]
  },
  {
   "cell_type": "markdown",
   "metadata": {},
   "source": [
    "Escreva um programa para aprovar um empréstimo bancário para compra de uma casa. \n",
    "O programa deve perguntar o valor da casa  a comprar, o salário e quantidade de anos a pagar sobre o valor da casa.\n",
    "Calcule o montante a pagar sobre uma taxa de juros anual de juros compostos em funçao da quantidade de anos a pagar.\n",
    "O valor da prestação mensal não pode ser superior a 30% do salário. \n",
    "Calcule o valor da prestação como sendo o valor da casa a comprar divido pelo número de meses a pagar.\n",
    "montante=valor da casa*(1+taxa)***quantidaade de anos a pagar.\n"
   ]
  },
  {
   "cell_type": "code",
   "execution_count": null,
   "metadata": {},
   "outputs": [],
   "source": []
  },
  {
   "cell_type": "markdown",
   "metadata": {},
   "source": [
    "### Expressão Condicional Python"
   ]
  },
  {
   "cell_type": "markdown",
   "metadata": {},
   "source": [
    "Expressões condicionais são instruções que avaliam uma condição e, com base no resultado dessa avaliação (verdadeiro ou falso),\n",
    "executam um determinado bloco de código. \n",
    "Em Python, utilizamos as palavras-chave if , elif e else para criar essas expressões."
   ]
  },
  {
   "cell_type": "markdown",
   "metadata": {},
   "source": [
    "#### Sintaxe"
   ]
  },
  {
   "cell_type": "markdown",
   "metadata": {},
   "source": [
    "#### resposta = <ação_para_condição_verdadeira> if (<condição>) else <ação_para_condição_falsa>"
   ]
  },
  {
   "cell_type": "markdown",
   "metadata": {},
   "source": [
    "#### Exemplo 6"
   ]
  },
  {
   "cell_type": "markdown",
   "metadata": {},
   "source": [
    "Faça um programa para determinar se um número é par ou impar\n",
    "utilizando expressão condicional."
   ]
  },
  {
   "cell_type": "code",
   "execution_count": null,
   "metadata": {},
   "outputs": [],
   "source": []
  },
  {
   "cell_type": "markdown",
   "metadata": {},
   "source": [
    "#### Exemplo 7"
   ]
  },
  {
   "cell_type": "markdown",
   "metadata": {},
   "source": [
    "Dados três valores X, Y e Z, verifique se eles podem ser os comprimentos dos lados de um triângulo\n",
    "e, se forem, verifique se é um triângulo equilátero, isósceles ou escaleno. Se eles não formarem um\n",
    "triângulo, escreva uma mensagem. Considere que:\n",
    "o comprimento de cada lado de um triângulo é menor que a soma dos outros dois lados;\n",
    "chama-se equilátero o triângulo que tem três lados iguais;\n",
    "denomina-se isósceles o triângulo que tem o comprimento de dois lados iguais;\n",
    "recebe o nome de escaleno o triângulo que tem os três lados diferentes."
   ]
  },
  {
   "cell_type": "code",
   "execution_count": null,
   "metadata": {},
   "outputs": [],
   "source": []
  },
  {
   "cell_type": "markdown",
   "metadata": {},
   "source": [
    "### Obrigado!"
   ]
  }
 ],
 "metadata": {
  "kernelspec": {
   "display_name": "Python 3 (ipykernel)",
   "language": "python",
   "name": "python3"
  },
  "language_info": {
   "codemirror_mode": {
    "name": "ipython",
    "version": 3
   },
   "file_extension": ".py",
   "mimetype": "text/x-python",
   "name": "python",
   "nbconvert_exporter": "python",
   "pygments_lexer": "ipython3",
   "version": "3.12.4"
  }
 },
 "nbformat": 4,
 "nbformat_minor": 4
}
