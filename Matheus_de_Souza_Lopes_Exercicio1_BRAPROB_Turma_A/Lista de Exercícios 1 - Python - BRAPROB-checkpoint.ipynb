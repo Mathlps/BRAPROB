{
 "cells": [
  {
   "cell_type": "markdown",
   "metadata": {},
   "source": [
    "### Lista de Exercícios 1 - Python BRAPROB - Valor: 1.5<br>"
   ]
  },
  {
   "cell_type": "markdown",
   "metadata": {},
   "source": [
    "Prof. César A. S. Lima, Dr."
   ]
  },
  {
   "cell_type": "markdown",
   "metadata": {},
   "source": [
    "<b>Atenção:</b> Desenvolva cada questão na linha em branco abaixo de cada enunciado neste Notebook.<br>\n",
    "Ao finalizar, salve o arquivo e compacte-o com o seguinte nome:<br>\n",
    "<b>Nome_Completo_do_Aluno_Exercicio1_BRAPROB_Turma_A</b> <br>\n",
    "Faça a postagem do arquivo compactado no Moodle até a data de 24/09/2024 até o horário de 23:55 horas."
   ]
  },
  {
   "cell_type": "markdown",
   "metadata": {},
   "source": [
    "1º) Escreva um programa que leia um valor em metros e o exiba convertido em milímetros."
   ]
  },
  {
   "cell_type": "code",
   "execution_count": 1,
   "metadata": {},
   "outputs": [
    {
     "name": "stdin",
     "output_type": "stream",
     "text": [
      "Entre com um número em metros: 10\n"
     ]
    },
    {
     "name": "stdout",
     "output_type": "stream",
     "text": [
      "número em metros=10.0, número em milímetros10000.0\n"
     ]
    }
   ],
   "source": [
    "num_m=float(input(\"Entre com um número em metros:\"))\n",
    "num_mm=num_m*1000\n",
    "print(f\"número em metros={num_m}, número em milímetros{num_mm}\")\n"
   ]
  },
  {
   "cell_type": "markdown",
   "metadata": {},
   "source": [
    "2º) Escreva um programa que leia a quantidade de dias, horas, minutos e segundos do usuário. Calcule o total em segundos."
   ]
  },
  {
   "cell_type": "code",
   "execution_count": 2,
   "metadata": {},
   "outputs": [
    {
     "name": "stdin",
     "output_type": "stream",
     "text": [
      "entre com o número de dias: 1\n",
      "entre com o número de horas: 0\n",
      "entre com os minutos: 0\n",
      "entre com os segundos: 0\n"
     ]
    },
    {
     "name": "stdout",
     "output_type": "stream",
     "text": [
      "a quantidade de s do tempo informado é= 86400\n"
     ]
    }
   ],
   "source": [
    "dia=int(input(\"entre com o número de dias:\"))\n",
    "hora=int(input(\"entre com o número de horas:\"))\n",
    "minuto=int(input(\"entre com os minutos:\"))\n",
    "segundos=int(input(\"entre com os segundos:\"))\n",
    "\n",
    "dia_cv=dia*24\n",
    "hora_cv=(hora+dia_cv)*60\n",
    "minuto_cv=(minuto+hora_cv)*60\n",
    "\n",
    "print(f'a quantidade de s do tempo informado é= {minuto_cv}')"
   ]
  },
  {
   "cell_type": "markdown",
   "metadata": {},
   "source": [
    "3º) Faça um programa que calcule o aumento de um salário. Ele deve solicitar o valor do salário e a porcentagem do aumento. Exiba o valor do aumento e do novo salário."
   ]
  },
  {
   "cell_type": "code",
   "execution_count": 3,
   "metadata": {},
   "outputs": [
    {
     "name": "stdin",
     "output_type": "stream",
     "text": [
      "entre com o valor do sálario: 1000\n",
      "entre com a % do aumento: 10\n"
     ]
    },
    {
     "name": "stdout",
     "output_type": "stream",
     "text": [
      "salario antigo=1000.0 \n",
      "valor do aumento=100.0 \n",
      "novo salario=1100.0\n"
     ]
    }
   ],
   "source": [
    "salario=float(input(\"entre com o valor do sálario:\"))\n",
    "porcento_salario=int(input(\"entre com a % do aumento:\"))/100\n",
    "salario_novo=0.0\n",
    "porcento_valor=0.0\n",
    "porcento_valor=salario*porcento_salario\n",
    "salario_novo=salario+porcento_valor\n",
    "\n",
    "print(f\"salario antigo={salario} \\nvalor do aumento={porcento_valor} \\nnovo salario={salario_novo}\")"
   ]
  },
  {
   "cell_type": "markdown",
   "metadata": {},
   "source": [
    "4º) Faça um programa que solicite o preço de uma mercadoria e o percentual de desconto. Exiba o valor do desconto e o preço a pagar."
   ]
  },
  {
   "cell_type": "code",
   "execution_count": 5,
   "metadata": {},
   "outputs": [
    {
     "name": "stdin",
     "output_type": "stream",
     "text": [
      "entre com o valor da mercadoria: 1000\n",
      "entre com a % do desconto: 20\n"
     ]
    },
    {
     "name": "stdout",
     "output_type": "stream",
     "text": [
      "preço da mercadoria=1000.0 reais \n",
      " valor do desconto=200.0 reais \n",
      " preço total a pagar=800.0 reais\n"
     ]
    }
   ],
   "source": [
    "mercadoria=float(input(\"entre com o valor da mercadoria:\"))\n",
    "porcento_desconto=int(input(\"entre com a % do desconto:\"))/100\n",
    "preco_novo=0.0\n",
    "porcento_valor=0.0\n",
    "porcento_valor=mercadoria*porcento_desconto\n",
    "preco_novo=mercadoria-porcento_valor\n",
    "\n",
    "print(f\"preço da mercadoria={mercadoria} reais \\n valor do desconto={porcento_valor} reais \\n preço total a pagar={preco_novo} reais\")"
   ]
  },
  {
   "cell_type": "markdown",
   "metadata": {},
   "source": [
    "5º) Escreva um programa que calcule o tempo de uma viagem de carro. Pergunte a distância a percorrer e a velocidade média esperada para a viagem."
   ]
  },
  {
   "cell_type": "code",
   "execution_count": 7,
   "metadata": {},
   "outputs": [
    {
     "name": "stdin",
     "output_type": "stream",
     "text": [
      "entre com a distância a percorrer em km: 215\n",
      "entre com a velocidade média esperada para a viagem km/h:  44\n"
     ]
    },
    {
     "name": "stdout",
     "output_type": "stream",
     "text": [
      "o tempo gasto na viagem sera de mais ou menos 4.9 horas\n"
     ]
    }
   ],
   "source": [
    "distancia=float(input(\"entre com a distância a percorrer em km:\"))\n",
    "velocidade=float(input(\"entre com a velocidade média esperada para a viagem km/h: \"))\n",
    "tempo=0.0\n",
    "tempo=distancia/velocidade\n",
    "print(f\"o tempo gasto na viagem sera de mais ou menos {tempo:,.1f} horas\")"
   ]
  },
  {
   "cell_type": "markdown",
   "metadata": {},
   "source": [
    "6º) Escreva um programa que pergunte a quantidade de km percorridos por um carro alugado pelo usuário, assim como a quantidade de dias pelos quais o carro foi alugado. Calcule o preço a pagar, sabendo que o carro custa 60,00 reais por dia e 0,15 centavos por km rodado."
   ]
  },
  {
   "cell_type": "code",
   "execution_count": 8,
   "metadata": {},
   "outputs": [
    {
     "name": "stdin",
     "output_type": "stream",
     "text": [
      "entre com a quantidade de km percorridos pelo carro alugado: 451\n",
      "entre com a quantidade de dias pelos quais o carro foi alugado: 6\n"
     ]
    },
    {
     "name": "stdout",
     "output_type": "stream",
     "text": [
      "Total a pagar pelo carro alugado é=427.65 reais\n"
     ]
    }
   ],
   "source": [
    "km=float(input(\"entre com a quantidade de km percorridos pelo carro alugado:\"))\n",
    "dias=float(input(\"entre com a quantidade de dias pelos quais o carro foi alugado:\"))\n",
    "\n",
    "precoDia=0.0\n",
    "precoKm=0.0\n",
    "total=0.0\n",
    "precoDia=60*dias\n",
    "precoKm=km*0.15\n",
    "total=precoDia+precoKm\n",
    "\n",
    "print(f\"Total a pagar pelo carro alugado é={total} reais\")\n"
   ]
  },
  {
   "cell_type": "markdown",
   "metadata": {},
   "source": [
    "7º) Escreva um programa para calcular a redução do tempo de vida de um fumante. Pergunte a quantidade de cigarros fumados por dia e quantos anos ele já fumou. Considere que um fumante perde 10 minutos de vida a cada cigarro, e calcule quantos dias de vida um fumante perderá. Exiba o total em dias. "
   ]
  },
  {
   "cell_type": "code",
   "execution_count": 11,
   "metadata": {},
   "outputs": [
    {
     "name": "stdin",
     "output_type": "stream",
     "text": [
      "quantidade de cigarros fumados por dias: 2\n",
      "quantidade de anos que fuma: 5\n"
     ]
    },
    {
     "name": "stdout",
     "output_type": "stream",
     "text": [
      "perderá um total de 12.67361111111111 de vida\n"
     ]
    }
   ],
   "source": [
    "cigarro=int(input(\"quantidade de cigarros fumados por dias:\"))\n",
    "ano=int(input(\"quantidade de anos que fuma:\"))\n",
    "minutos=0\n",
    "minutos=(365*ano)*10\n",
    "\n",
    "dias=minutos/1440\n",
    "\n",
    "print(f\"perderá um total de {dias} de vida\")"
   ]
  },
  {
   "cell_type": "markdown",
   "metadata": {},
   "source": [
    "8º) Escreva um programa que leia três números e que imprima o maior e o menor."
   ]
  },
  {
   "cell_type": "code",
   "execution_count": 4,
   "metadata": {},
   "outputs": [
    {
     "name": "stdin",
     "output_type": "stream",
     "text": [
      "Digite o primeiro número:  4\n",
      "Digite o segundo número:  10\n",
      "Digite o terceiro número:  8\n"
     ]
    },
    {
     "name": "stdout",
     "output_type": "stream",
     "text": [
      "O maior número é: 10.0\n",
      "O menor número é: 4.0\n"
     ]
    }
   ],
   "source": [
    "\n",
    "num1 = float(input(\"Digite o primeiro número: \"))\n",
    "num2 = float(input(\"Digite o segundo número: \"))\n",
    "num3 = float(input(\"Digite o terceiro número: \"))\n",
    "\n",
    "if num1 >= num2 and num1 >= num3:\n",
    "    maior = num1\n",
    "elif num2 >= num1 and num2 >= num3:\n",
    "    maior = num2\n",
    "else:\n",
    "    maior = num3\n",
    "\n",
    "if num1 <= num2 and num1 <= num3:\n",
    "    menor = num1\n",
    "elif num2 <= num1 and num2 <= num3:\n",
    "    menor = num2\n",
    "else:\n",
    "    menor = num3\n",
    "\n",
    "print(f\"O maior número é: {maior}\")\n",
    "print(f\"O menor número é: {menor}\")\n"
   ]
  },
  {
   "cell_type": "markdown",
   "metadata": {},
   "source": [
    "9º) Escreva um programa que pergunte o salário do funcionário e calcule o valor do aumento. Para salários superiores a R$ 1.250,00, calcule um aumento de 10%. Para os inferiores ou iguais, de 15%."
   ]
  },
  {
   "cell_type": "code",
   "execution_count": 2,
   "metadata": {},
   "outputs": [
    {
     "name": "stdin",
     "output_type": "stream",
     "text": [
      "entre com o valor do salario: 1000\n"
     ]
    },
    {
     "name": "stdout",
     "output_type": "stream",
     "text": [
      "o salario=1150.0\n"
     ]
    }
   ],
   "source": [
    "salario=float(input('entre com o valor do salario:'))\n",
    "novo=0.0\n",
    "if salario>=1250.00:\n",
    "    novo=salario*1.10\n",
    "    print(f\"o salario={novo}\")\n",
    "else:\n",
    "    novo=salario*1.15\n",
    "    print(f\"o salario={novo}\")"
   ]
  },
  {
   "cell_type": "markdown",
   "metadata": {},
   "source": [
    "10º) Escreva um programa que pergunte a distância que um passageiro deseja percorrer em km. Calcule o preço da passagem, cobrando R$ 0,50 por km para viagens de até de 200 km, e R$ 0,45 para viagens mais longas."
   ]
  },
  {
   "cell_type": "code",
   "execution_count": 5,
   "metadata": {},
   "outputs": [
    {
     "name": "stdin",
     "output_type": "stream",
     "text": [
      "distancia que desja percorrer em km: 255\n"
     ]
    },
    {
     "name": "stdout",
     "output_type": "stream",
     "text": [
      "valor da passagem=114.75 reais\n"
     ]
    }
   ],
   "source": [
    "distancia=float(input('distancia que desja percorrer em km:'))\n",
    "preco=0.0\n",
    "if distancia<=200:\n",
    "    preco=0.50*distancia\n",
    "    print(f\"valor da passagem={preco} reais\")\n",
    "else:\n",
    "    preco=0.45*distancia\n",
    "    print(f\"valor da passagem={preco} reais\")"
   ]
  },
  {
   "cell_type": "markdown",
   "metadata": {},
   "source": [
    "11º) Faça um programa para escrever a contagem regressiva do lançamento de um foguete. O programa deve imprimir 10, 9, 8, …, 1, 0 e Fogo! na tela."
   ]
  },
  {
   "cell_type": "code",
   "execution_count": 9,
   "metadata": {},
   "outputs": [
    {
     "name": "stdout",
     "output_type": "stream",
     "text": [
      "10\n",
      "9\n",
      "8\n",
      "7\n",
      "6\n",
      "5\n",
      "4\n",
      "3\n",
      "2\n",
      "1\n",
      "0\n",
      "Fogo!\n"
     ]
    }
   ],
   "source": [
    "for i in range(10, -1, -1):\n",
    "    print(i)\n",
    "\n",
    "print(\"Fogo!\")\n"
   ]
  },
  {
   "cell_type": "markdown",
   "metadata": {},
   "source": [
    "12º) Escreva um programa que leia dois números. Imprima a divisão inteira do primeiro pelo segundo, assim como o resto da divisão. Utilize apenas os operadores de soma e subtração para calcular o resultado. Lembre-se de que podemos entender o quociente da divisão de dois números como a quantidade de vezes que podemos retirar o divisor do dividendo. Logo, 20 ÷ 4 = 5, uma vez que podemos subtrair 4 cinco vezes de 20."
   ]
  },
  {
   "cell_type": "code",
   "execution_count": 28,
   "metadata": {},
   "outputs": [
    {
     "name": "stdin",
     "output_type": "stream",
     "text": [
      "Digite o dividendo:  20\n",
      "Digite o divisor:  4\n"
     ]
    },
    {
     "name": "stdout",
     "output_type": "stream",
     "text": [
      "Divisão inteira: 5\n",
      "Resto: 0\n"
     ]
    }
   ],
   "source": [
    "\n",
    "dividendo = int(input(\"Digite o dividendo: \"))\n",
    "divisor = int(input(\"Digite o divisor: \"))\n",
    "\n",
    "quociente = 0\n",
    "resto = dividendo\n",
    "\n",
    "\n",
    "while resto >= divisor:\n",
    "    resto -= divisor\n",
    "    quociente += 1\n",
    "\n",
    "\n",
    "print(f\"Divisão inteira: {quociente}\")\n",
    "print(f\"Resto: {resto}\")\n"
   ]
  },
  {
   "cell_type": "markdown",
   "metadata": {},
   "source": [
    "13º) Escreva um programa que pergunte o depósito inicial e a taxa de juros de uma poupança. Exiba os valores mês a mês para os 24 primeiros meses. Escreva o total ganho com juros no período. "
   ]
  },
  {
   "cell_type": "code",
   "execution_count": 39,
   "metadata": {
    "scrolled": true
   },
   "outputs": [
    {
     "name": "stdin",
     "output_type": "stream",
     "text": [
      "Digite o depósito inicial:  1000\n",
      "Digite a taxa de juros mensal (em %):  10\n"
     ]
    },
    {
     "name": "stdout",
     "output_type": "stream",
     "text": [
      "\n",
      "Mês\tSaldo\n",
      "1\tR$ 1100.00\n",
      "2\tR$ 1210.00\n",
      "3\tR$ 1331.00\n",
      "4\tR$ 1464.10\n",
      "5\tR$ 1610.51\n",
      "6\tR$ 1771.56\n",
      "7\tR$ 1948.72\n",
      "8\tR$ 2143.59\n",
      "9\tR$ 2357.95\n",
      "10\tR$ 2593.74\n",
      "11\tR$ 2853.12\n",
      "12\tR$ 3138.43\n",
      "13\tR$ 3452.27\n",
      "14\tR$ 3797.50\n",
      "15\tR$ 4177.25\n",
      "16\tR$ 4594.97\n",
      "17\tR$ 5054.47\n",
      "18\tR$ 5559.92\n",
      "19\tR$ 6115.91\n",
      "20\tR$ 6727.50\n",
      "21\tR$ 7400.25\n",
      "22\tR$ 8140.27\n",
      "23\tR$ 8954.30\n",
      "24\tR$ 9849.73\n",
      "\n",
      "Total ganho com juros no período: R$ 8849.73\n"
     ]
    }
   ],
   "source": [
    "\n",
    "deposito_inicial = float(input(\"Digite o depósito inicial: \"))\n",
    "taxa_juros = float(input(\"Digite a taxa de juros mensal (em %): \"))\n",
    "\n",
    "taxa_juros /= 100\n",
    "\n",
    "saldo = deposito_inicial\n",
    "total_juros = 0\n",
    "\n",
    "print(\"\\nMês\\tSaldo\")\n",
    "for mes in range(1, 25):\n",
    "    \n",
    "    juros = saldo * taxa_juros\n",
    "    \n",
    "    saldo += juros\n",
    "    \n",
    "    total_juros += juros\n",
    "    \n",
    "    print(f\"{mes}\\tR$ {saldo:.2f}\")\n",
    "\n",
    "print(f\"\\nTotal ganho com juros no período: R$ {total_juros:.2f}\")\n"
   ]
  },
  {
   "cell_type": "markdown",
   "metadata": {},
   "source": [
    "14º) Escreva um programa que pergunte o valor inicial de uma dívida e o juro mensal. Pergunte também o valor mensal que será pago. Imprima o número de meses para que a dívida seja paga, o total pago e o total de juros pago."
   ]
  },
  {
   "cell_type": "code",
   "execution_count": 1,
   "metadata": {},
   "outputs": [
    {
     "name": "stdin",
     "output_type": "stream",
     "text": [
      "Digite o valor inicial da dívida:  1000\n",
      "Digite o juro mensal em %:  10\n",
      "Digite o valor que será pago mensalmente:  250\n"
     ]
    },
    {
     "name": "stdout",
     "output_type": "stream",
     "text": [
      "Número de meses para pagar a dívida: 6\n",
      "Total pago: R$1342.66\n",
      "Total de juros pagos: R$342.66\n"
     ]
    }
   ],
   "source": [
    "valor_inicial = float(input(\"Digite o valor inicial da dívida: \"))\n",
    "juros_mensal = float(input(\"Digite o juro mensal em %: \")) / 100\n",
    "pagamento_mensal = float(input(\"Digite o valor que será pago mensalmente: \"))\n",
    "meses = 0\n",
    "total_pago = 0\n",
    "total_juros = 0\n",
    "valor_devido = valor_inicial\n",
    "while valor_devido > 0:\n",
    "    juros = valor_devido * juros_mensal\n",
    "    valor_devido += juros\n",
    "    if valor_devido < pagamento_mensal:\n",
    "        pagamento_mensal = valor_devido  # Ajusta o pagamento para o saldo devedor\n",
    "    valor_devido -= pagamento_mensal\n",
    "    total_pago += pagamento_mensal\n",
    "    total_juros += juros\n",
    "    meses += 1\n",
    "print(f\"Número de meses para pagar a dívida: {meses}\")\n",
    "print(f\"Total pago: R${total_pago:.2f}\")\n",
    "print(f\"Total de juros pagos: R${total_juros:.2f}\")"
   ]
  },
  {
   "cell_type": "markdown",
   "metadata": {},
   "source": [
    "15º) Escreva um programa que calcule o resto da divisão inteira entre dois números. Utilize apenas as operações de soma e subtração para calcular o resultado."
   ]
  },
  {
   "cell_type": "code",
   "execution_count": 2,
   "metadata": {},
   "outputs": [
    {
     "name": "stdin",
     "output_type": "stream",
     "text": [
      "Digite o dividendo:  100\n",
      "Digite o divisor:  7\n"
     ]
    },
    {
     "name": "stdout",
     "output_type": "stream",
     "text": [
      "O resto da divisão de 100 por 7 é: 2\n"
     ]
    }
   ],
   "source": [
    "\n",
    "dividendo = int(input(\"Digite o dividendo: \"))\n",
    "divisor = int(input(\"Digite o divisor: \"))\n",
    "\n",
    "resto = dividendo\n",
    "\n",
    "while resto >= divisor:\n",
    "    resto -= divisor\n",
    "\n",
    "print(f\"O resto da divisão de {dividendo} por {divisor} é: {resto}\")\n"
   ]
  },
  {
   "cell_type": "code",
   "execution_count": null,
   "metadata": {},
   "outputs": [],
   "source": []
  }
 ],
 "metadata": {
  "kernelspec": {
   "display_name": "Python 3 (ipykernel)",
   "language": "python",
   "name": "python3"
  },
  "language_info": {
   "codemirror_mode": {
    "name": "ipython",
    "version": 3
   },
   "file_extension": ".py",
   "mimetype": "text/x-python",
   "name": "python",
   "nbconvert_exporter": "python",
   "pygments_lexer": "ipython3",
   "version": "3.12.4"
  }
 },
 "nbformat": 4,
 "nbformat_minor": 4
}
