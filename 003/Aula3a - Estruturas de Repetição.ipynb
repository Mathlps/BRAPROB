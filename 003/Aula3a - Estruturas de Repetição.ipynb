{
 "cells": [
  {
   "cell_type": "markdown",
   "metadata": {},
   "source": [
    "### Estruturas de Repetição"
   ]
  },
  {
   "cell_type": "markdown",
   "metadata": {},
   "source": [
    "As estruturas de repetição são recursos das linguagens de programação responsáveis por executar um bloco de código repetidamente através de determinadas condições especificas.\n",
    "O Python contém dois tipos de estruturas de repetição: <b>for e while.</b>"
   ]
  },
  {
   "cell_type": "markdown",
   "metadata": {},
   "source": [
    "### O Laço for"
   ]
  },
  {
   "cell_type": "markdown",
   "metadata": {},
   "source": [
    "O laço for é utilizado para percorrer sobre uma sequência de dados um conjunto de instruções em cada item.\n",
    "Como você já sabe, o Python utiliza indentação para separar blocos de código: nos loops utilizando for não é diferente."
   ]
  },
  {
   "cell_type": "markdown",
   "metadata": {},
   "source": [
    "#### Sua sintaxe básica é:"
   ]
  },
  {
   "cell_type": "markdown",
   "metadata": {},
   "source": [
    "<b>for <nome variável> in <iterável></b>"
   ]
  },
  {
   "cell_type": "markdown",
   "metadata": {},
   "source": [
    "Onde:\n",
    "<nome variável> é o nome da variável que vai receber os elemento de <iterável>.\n",
    "<iterável> é o container de dados sobre o qual vamos percorrer, podendo ser: uma lista, uma tupla, uma string, um dicionário, entre outros."
   ]
  },
  {
   "cell_type": "markdown",
   "metadata": {},
   "source": [
    "Existe outra forma de se utilizar o for que é utilizando a estrutura for/else.\n",
    "Adicionar o else ao final do for nos possibilita executar um bloco de código após o iterável ter sido completamente percorrido."
   ]
  },
  {
   "cell_type": "markdown",
   "metadata": {},
   "source": [
    "### O Laço While"
   ]
  },
  {
   "cell_type": "markdown",
   "metadata": {},
   "source": [
    "O while é uma estrutura de repetição utilizada quando queremos que determinado bloco de código seja executado ENQUANTO (do inglês while) determinada condição for satisfeita.\n",
    "Em outras palavras: só saia da estrutura de repetição quando a condição não for mais satisfeita."
   ]
  },
  {
   "cell_type": "markdown",
   "metadata": {},
   "source": [
    "Sua sintaxe básica é:"
   ]
  },
  {
   "cell_type": "markdown",
   "metadata": {},
   "source": [
    "<b>while <condição><br>\n",
    "    # bloco a ser executado</b>"
   ]
  },
  {
   "attachments": {},
   "cell_type": "markdown",
   "metadata": {},
   "source": [
    "Aqui, <b><condição></b> é uma expressão que pode ser reduzida à True ou False, podendo ser:"
   ]
  },
  {
   "cell_type": "markdown",
   "metadata": {},
   "source": [
    "A verificação do valor de uma variável; <br>\n",
    "Determinada estrutura de dados alcançar um tamanho; <br>\n",
    "O retorno de uma função se igualar a determinado valor; <br>\n",
    "Algum valor externo ser alterado (por exemplo um valor armazenado em Banco de Dados)."
   ]
  },
  {
   "cell_type": "markdown",
   "metadata": {},
   "source": [
    "### A função range()"
   ]
  },
  {
   "cell_type": "markdown",
   "metadata": {},
   "source": [
    "Essa função é de grande ajuda quando o tema é repetição, laços, <b>for</b> etc. <br>\n",
    "Ela permite especificar o inicio de um intervalo sequencial, o passo (ou pulo) e valor final.<br>\n",
    "Com isso, o Python nos retorna uma sequência de números para que possamos iterar!<br>\n",
    "Sua sintaxe pode ter as seguintes três formas, sendo que seu único parâmetro obrigatório é o <b>fim</b>:<br>"
   ]
  },
  {
   "cell_type": "markdown",
   "metadata": {},
   "source": [
    "<b>range(fim)                  # range(stop) <br>\n",
    "range(inicio, fim)          # range(start, stop)<br>\n",
    "range(inicio, fim, passo)   # range(start, stop, step)</b><br>"
   ]
  },
  {
   "cell_type": "markdown",
   "metadata": {},
   "source": [
    "### Exemplo 1 - Laço for"
   ]
  },
  {
   "cell_type": "markdown",
   "metadata": {},
   "source": [
    "Faça um programa que receba dois numeros. Calcule e mostre: <br>\n",
    "a) Caso os números formem um intervalo crescente, calcule a média dos\n",
    "   numeros do intervalo, incluindo os numeros digitados;<br>\n",
    "b) Caso os números formem um intervalo decrescente, calcule a soma\n",
    "   dos numeros pares, incluindo os numeros digitados;<br>\n",
    "c) Se os números forem iguais, mostre uma mensagem informando essa condição."
   ]
  },
  {
   "cell_type": "code",
   "execution_count": 4,
   "metadata": {},
   "outputs": [
    {
     "name": "stdin",
     "output_type": "stream",
     "text": [
      "entre com o 1 numero: 3\n",
      "entre com o 2 numero: 5\n"
     ]
    },
    {
     "name": "stdout",
     "output_type": "stream",
     "text": [
      "media = 11.00\n"
     ]
    }
   ],
   "source": [
    "soma = 0.0\n",
    "qntd = 0\n",
    "soma_par = 0\n",
    "media= 0.0\n",
    "\n",
    "num1 = int(input(\"entre com o 1 numero:\")) \n",
    "num2 = int(input(\"entre com o 2 numero:\")) \n",
    "soma=num1+num2\n",
    "\n",
    "if(num1==num2):\n",
    "    print('os numeros são iguais! os números deveram ter valores diferentes!')\n",
    "else:\n",
    "    if(num1<num2):\n",
    "        for num in range(num1, num2):\n",
    "            soma= soma + num\n",
    "            # soma+=num\n",
    "            qntd= qntd + 1\n",
    "        media= soma/qntd\n",
    "        print('media = %.2f'%(media))\n",
    "\n",
    "    elif(num1>num2):\n",
    "        for num in range (num2, num1 +1):\n",
    "            if(num%2==0):\n",
    "                soma_par += num\n",
    "        print(\"Soma dos numeros pares = %.0f\" %(soma_par))"
   ]
  },
  {
   "cell_type": "markdown",
   "metadata": {},
   "source": [
    "### Exemplo 2 - Laço for"
   ]
  },
  {
   "cell_type": "markdown",
   "metadata": {},
   "source": [
    "Uma empresa contratou 5 funcionarios temporários. De acordo com o valor das vendas mensais, os funcionários adquirem pontos que determinarão seus salários ao final de cada mês. Sabe-se que estes funcionários trabalharão de novembro a janeiro do ano subsequente:<br>\n",
    "Faça um programa que:<br>\n",
    "a) Leia as pontuações nos três meses de cada funcionário;<br>\n",
    "b) Calcule e mostre a pontuação geral de cada funcionário nos três meses;<br>\n",
    "c) Calcule e mostre a média das pontuações de cada funcionários nos três meses;<br>\n",
    "d) Determine e mostre a maior pontuação atingida entre todos os funcionários nos três meses.<br>"
   ]
  },
  {
   "cell_type": "code",
   "execution_count": 7,
   "metadata": {},
   "outputs": [
    {
     "name": "stdout",
     "output_type": "stream",
     "text": [
      "\n",
      " entre com a quantidade de pontos do Funcionario 1 no Mes 1\n"
     ]
    },
    {
     "name": "stdin",
     "output_type": "stream",
     "text": [
      "quantidade de pontos: 10\n"
     ]
    },
    {
     "name": "stdout",
     "output_type": "stream",
     "text": [
      "\n",
      " entre com a quantidade de pontos do Funcionario 1 no Mes 2\n"
     ]
    },
    {
     "name": "stdin",
     "output_type": "stream",
     "text": [
      "quantidade de pontos: 4\n"
     ]
    },
    {
     "name": "stdout",
     "output_type": "stream",
     "text": [
      "\n",
      " entre com a quantidade de pontos do Funcionario 1 no Mes 3\n"
     ]
    },
    {
     "name": "stdin",
     "output_type": "stream",
     "text": [
      "quantidade de pontos: 7\n"
     ]
    },
    {
     "name": "stdout",
     "output_type": "stream",
     "text": [
      "pontuação total do funcionario 1 = 21.00\n",
      "media de pontos do funcionario 1 = 7.00\n",
      "\n",
      " entre com a quantidade de pontos do Funcionario 2 no Mes 1\n"
     ]
    },
    {
     "name": "stdin",
     "output_type": "stream",
     "text": [
      "quantidade de pontos: 4\n"
     ]
    },
    {
     "name": "stdout",
     "output_type": "stream",
     "text": [
      "\n",
      " entre com a quantidade de pontos do Funcionario 2 no Mes 2\n"
     ]
    },
    {
     "name": "stdin",
     "output_type": "stream",
     "text": [
      "quantidade de pontos: 8\n"
     ]
    },
    {
     "name": "stdout",
     "output_type": "stream",
     "text": [
      "\n",
      " entre com a quantidade de pontos do Funcionario 2 no Mes 3\n"
     ]
    },
    {
     "name": "stdin",
     "output_type": "stream",
     "text": [
      "quantidade de pontos: 4\n"
     ]
    },
    {
     "name": "stdout",
     "output_type": "stream",
     "text": [
      "pontuação total do funcionario 2 = 16.00\n",
      "media de pontos do funcionario 2 = 5.33\n",
      "\n",
      " entre com a quantidade de pontos do Funcionario 3 no Mes 1\n"
     ]
    },
    {
     "name": "stdin",
     "output_type": "stream",
     "text": [
      "quantidade de pontos: 784\n"
     ]
    },
    {
     "name": "stdout",
     "output_type": "stream",
     "text": [
      "\n",
      " entre com a quantidade de pontos do Funcionario 3 no Mes 2\n"
     ]
    },
    {
     "name": "stdin",
     "output_type": "stream",
     "text": [
      "quantidade de pontos: 74\n"
     ]
    },
    {
     "name": "stdout",
     "output_type": "stream",
     "text": [
      "\n",
      " entre com a quantidade de pontos do Funcionario 3 no Mes 3\n"
     ]
    },
    {
     "name": "stdin",
     "output_type": "stream",
     "text": [
      "quantidade de pontos: 74\n"
     ]
    },
    {
     "name": "stdout",
     "output_type": "stream",
     "text": [
      "pontuação total do funcionario 3 = 932.00\n",
      "media de pontos do funcionario 3 = 310.67\n",
      "\n",
      " entre com a quantidade de pontos do Funcionario 4 no Mes 1\n"
     ]
    },
    {
     "name": "stdin",
     "output_type": "stream",
     "text": [
      "quantidade de pontos: 85\n"
     ]
    },
    {
     "name": "stdout",
     "output_type": "stream",
     "text": [
      "\n",
      " entre com a quantidade de pontos do Funcionario 4 no Mes 2\n"
     ]
    },
    {
     "name": "stdin",
     "output_type": "stream",
     "text": [
      "quantidade de pontos: 5\n"
     ]
    },
    {
     "name": "stdout",
     "output_type": "stream",
     "text": [
      "\n",
      " entre com a quantidade de pontos do Funcionario 4 no Mes 3\n"
     ]
    },
    {
     "name": "stdin",
     "output_type": "stream",
     "text": [
      "quantidade de pontos: 4\n"
     ]
    },
    {
     "name": "stdout",
     "output_type": "stream",
     "text": [
      "pontuação total do funcionario 4 = 94.00\n",
      "media de pontos do funcionario 4 = 31.33\n",
      "\n",
      " entre com a quantidade de pontos do Funcionario 5 no Mes 1\n"
     ]
    },
    {
     "name": "stdin",
     "output_type": "stream",
     "text": [
      "quantidade de pontos: 4\n"
     ]
    },
    {
     "name": "stdout",
     "output_type": "stream",
     "text": [
      "\n",
      " entre com a quantidade de pontos do Funcionario 5 no Mes 2\n"
     ]
    },
    {
     "name": "stdin",
     "output_type": "stream",
     "text": [
      "quantidade de pontos: 47\n"
     ]
    },
    {
     "name": "stdout",
     "output_type": "stream",
     "text": [
      "\n",
      " entre com a quantidade de pontos do Funcionario 5 no Mes 3\n"
     ]
    },
    {
     "name": "stdin",
     "output_type": "stream",
     "text": [
      "quantidade de pontos: 488\n"
     ]
    },
    {
     "name": "stdout",
     "output_type": "stream",
     "text": [
      "pontuação total do funcionario 5 = 539.00\n",
      "media de pontos do funcionario 5 = 179.67\n",
      " a maior pontuação foi 488 funcionario que obteve o maior numero de pontos foi o funcionario 5\n"
     ]
    }
   ],
   "source": [
    "funcionarios = 0\n",
    "pontos_totais = 0\n",
    "maior_pontos = 0\n",
    "mediaPontos=0\n",
    "for qnt_pontos in range(1,6):\n",
    "    pontos_totais=0\n",
    "    for cont_mes in range(1,4):\n",
    "        print(f'\\n entre com a quantidade de pontos do Funcionario {qnt_pontos} no Mes {cont_mes}')\n",
    "        pontos= int(input(\"quantidade de pontos:\"))\n",
    "        pontos_totais += pontos\n",
    "    print(f\"pontuação total do funcionario {qnt_pontos} = {pontos_totais:,.2f}\")\n",
    "    mediaPontos=pontos_totais/3\n",
    "    print(f\"media de pontos do funcionario {qnt_pontos} = {mediaPontos:,.2f}\")\n",
    "    if pontos > maior_pontos:\n",
    "            maior_pontos=pontos\n",
    "            funcionarios = qnt_pontos\n",
    "print(f\" a maior pontuação foi {maior_pontos} funcionario que obteve o maior numero de pontos foi o funcionario {funcionarios}\")    "
   ]
  },
  {
   "cell_type": "markdown",
   "metadata": {},
   "source": [
    "### Exemplo 3 - Laço while"
   ]
  },
  {
   "cell_type": "markdown",
   "metadata": {},
   "source": [
    "Um cinema cobra preços diferentes para os ingressos de acordo com a idade de uma pessoa. <br>\n",
    "Se uma pessoa tiver menos de 5 anos de idade, o ingresso será gratuito, se tiver entre 5 e 12 anos, o ingresso custará 18 reais,\n",
    "se tiver acima de 12 anos, custará 36 reais.<br>\n",
    "Faça um programa com um laço que pergunte a idade dos usuários, e informe os preços do ingresso e o valor total pago.<br>\n",
    "O programa será interrompido quando a idade digitada for zero.<br>"
   ]
  },
  {
   "cell_type": "code",
   "execution_count": 13,
   "metadata": {},
   "outputs": [
    {
     "name": "stdin",
     "output_type": "stream",
     "text": [
      "Entre com a idade: 10\n"
     ]
    },
    {
     "name": "stdout",
     "output_type": "stream",
     "text": [
      "Valor do ingresso = 18 reais\n"
     ]
    },
    {
     "name": "stdin",
     "output_type": "stream",
     "text": [
      "Entre com a idade: 12\n"
     ]
    },
    {
     "name": "stdout",
     "output_type": "stream",
     "text": [
      "Valor do ingresso = 18 reais\n"
     ]
    },
    {
     "name": "stdin",
     "output_type": "stream",
     "text": [
      "Entre com a idade: 4\n"
     ]
    },
    {
     "name": "stdout",
     "output_type": "stream",
     "text": [
      "Valor do ingresso = GRATUITO\n"
     ]
    },
    {
     "name": "stdin",
     "output_type": "stream",
     "text": [
      "Entre com a idade: 22\n"
     ]
    },
    {
     "name": "stdout",
     "output_type": "stream",
     "text": [
      "Valor do ingresso = 36 reais\n"
     ]
    },
    {
     "name": "stdin",
     "output_type": "stream",
     "text": [
      "Entre com a idade: 0\n"
     ]
    }
   ],
   "source": [
    "idade=1\n",
    "valorIngresso=0\n",
    "\n",
    "while(idade!=0):\n",
    "    idade=int(input(\"Entre com a idade:\"))\n",
    "    if idade<5 and idade>0 :\n",
    "        print(f\"Valor do ingresso = GRATUITO\")\n",
    "    elif idade>5 and idade<=12 :\n",
    "        valorIngresso=18\n",
    "        print(f\"Valor do ingresso = {valorIngresso} reais\")\n",
    "    elif idade>12 :\n",
    "        valorIngresso=36\n",
    "        print(f\"Valor do ingresso = {valorIngresso} reais\")    "
   ]
  },
  {
   "cell_type": "markdown",
   "metadata": {},
   "source": [
    "### Exemplo 4 - Laço while"
   ]
  },
  {
   "cell_type": "markdown",
   "metadata": {},
   "source": [
    "Um funcionário de uma empresa recebe aumento salarial anualmente. <br>\n",
    "Sabe-se que:<br>\n",
    "a) Esse funcionário foi contratado em 2020, com um determinado salário inicial;<br>\n",
    "b) Em 2021 recebeu aumento de 0,5% sobre o salário inicial;<br>\n",
    "c) A partir de 2022 (inclusive), os aumentos salariais sempre corresponderam a 50% a mais do percentual anterior. <br>\n",
    "Faça um programa que determine o salário atual desse funcionário.<br>"
   ]
  },
  {
   "cell_type": "code",
   "execution_count": 16,
   "metadata": {},
   "outputs": [
    {
     "name": "stdout",
     "output_type": "stream",
     "text": [
      "O salário atual em 2023 é: R$ 2047.86\n"
     ]
    }
   ],
   "source": [
    "# Define o salário inicial e o ano atual\n",
    "salario_inicial = 2000  # Exemplo: salário inicial\n",
    "ano_atual = 2023  # Exemplo: ano atual\n",
    "\n",
    "# Define o ano de início e o percentual de aumento inicial\n",
    "ano_inicio = 2020\n",
    "aumento_percentual = 0.5 / 100  # 0,5% em 2021\n",
    "\n",
    "# Salário atual começa com o salário inicial\n",
    "salario_atual = salario_inicial\n",
    "\n",
    "# Define o ano para começar a aplicar os aumentos\n",
    "ano = ano_inicio + 1  # Começa a partir de 2021\n",
    "\n",
    "# Loop para calcular o salário até o ano atual\n",
    "while ano <= ano_atual:\n",
    "    # Aplica o aumento ao salário atual\n",
    "    salario_atual += salario_atual * aumento_percentual\n",
    "    \n",
    "    # A partir de 2022, o aumento percentual aumenta em 50% a cada ano\n",
    "    aumento_percentual *= 1.5\n",
    "    \n",
    "    # Incrementa o ano\n",
    "    ano += 1\n",
    "\n",
    "# Imprime o salário final\n",
    "print(f\"O salário atual em {ano_atual} é: R$ {salario_atual:.2f}\")\n",
    "\n",
    "\n",
    "\n",
    "\n"
   ]
  },
  {
   "cell_type": "markdown",
   "metadata": {},
   "source": [
    "### Exemplo 5 - Laço while"
   ]
  },
  {
   "cell_type": "markdown",
   "metadata": {},
   "source": [
    "Faça um programa que receba um numero inteiro maior que 1 e verifique se o numero fornecido é primo ou não. <br>\n",
    "Se o numero for primo, mostre o numero e a mensagem \"Numero Primo\", caso contrário, \"Número não é Primo!\". <br>\n",
    "Obs: Um numero é primo quando é divisivel apenas por um e por ele mesmo.<br>"
   ]
  },
  {
   "cell_type": "code",
   "execution_count": null,
   "metadata": {},
   "outputs": [],
   "source": []
  },
  {
   "cell_type": "markdown",
   "metadata": {},
   "source": [
    "### Exemplo 6 - Laço while"
   ]
  },
  {
   "cell_type": "markdown",
   "metadata": {},
   "source": [
    "Escreva um programa que pergunte o depósito inicial e a taxa de juros de uma poupança. <br>\n",
    "Exiba os valores mês a mês para os 24 primeiros meses.<br>\n",
    "Escreva o total ganho com juros no período.<br>"
   ]
  },
  {
   "cell_type": "code",
   "execution_count": null,
   "metadata": {},
   "outputs": [],
   "source": []
  },
  {
   "cell_type": "markdown",
   "metadata": {},
   "source": [
    "### Consistência de Dados"
   ]
  },
  {
   "cell_type": "markdown",
   "metadata": {},
   "source": [
    "Este programa efetua a entrada de um valor numérico e apresenta-o somado a 5. <br>\n",
    "Se o dado for diferente de um valor inteiro ou real, o programa deve emitir a entrada de advertência:<br>\n",
    "\"Erro! Entre apenas com um valor numérico!\"<br>\n",
    "A função <b>is.digit</b> verifica se o caractere informado é um digito numérico. <br>\n",
    "Caso seja um dígito diferente a condição continua verdadeira porque é um dígito, mesmo sendo alfabético.<br> \n",
    "Neste caso, o programa retorna ao início onde um novo valor numérico é solicitado.<br>\n",
    "Se o valor for numérico então o programa é interrompido e o valor é convertido para float para ser exibido na tela com o acrescimo de 5."
   ]
  },
  {
   "cell_type": "code",
   "execution_count": null,
   "metadata": {},
   "outputs": [],
   "source": []
  },
  {
   "cell_type": "markdown",
   "metadata": {},
   "source": [
    "### Muito Obrigado!¶\n",
    "### Fim"
   ]
  }
 ],
 "metadata": {
  "kernelspec": {
   "display_name": "Python 3 (ipykernel)",
   "language": "python",
   "name": "python3"
  },
  "language_info": {
   "codemirror_mode": {
    "name": "ipython",
    "version": 3
   },
   "file_extension": ".py",
   "mimetype": "text/x-python",
   "name": "python",
   "nbconvert_exporter": "python",
   "pygments_lexer": "ipython3",
   "version": "3.12.4"
  }
 },
 "nbformat": 4,
 "nbformat_minor": 4
}
