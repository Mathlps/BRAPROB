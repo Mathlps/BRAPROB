{
 "cells": [
  {
   "cell_type": "markdown",
   "metadata": {},
   "source": [
    "### Operadores and, or e in.\n",
    "São operadores que verificam se um elemento está ou não contido numa lista, tupla ou dicionário.<br>\n",
    "and é operador de conjunção e or de disjunção.<br>\n",
    "Neste caso, em especial, será utilizado na função range().<br>\n",
    "x and y in [...] -> x e y estão contido numa lista <br>\n",
    "x or y in [...] -> x ou y estão contido numa lista"
   ]
  },
  {
   "cell_type": "code",
   "execution_count": 1,
   "metadata": {},
   "outputs": [
    {
     "name": "stdout",
     "output_type": "stream",
     "text": [
      "[1, 2, 3, 4, 5]\n"
     ]
    }
   ],
   "source": [
    "# Mostra uma lista de 1 a 5\n",
    "print(list(range(1,6)))"
   ]
  },
  {
   "cell_type": "code",
   "execution_count": 2,
   "metadata": {},
   "outputs": [
    {
     "name": "stdout",
     "output_type": "stream",
     "text": [
      "True\n"
     ]
    }
   ],
   "source": [
    "# Exibe True se 3 está contido no range de 1 a 6\n",
    "print(3 in range(1,6))"
   ]
  },
  {
   "cell_type": "code",
   "execution_count": 3,
   "metadata": {},
   "outputs": [
    {
     "name": "stdout",
     "output_type": "stream",
     "text": [
      "True\n"
     ]
    }
   ],
   "source": [
    "# Exibe True se 3 e 5 estão contidos no range de 1 a 6\n",
    "print(3 and 5 in range(1, 6))"
   ]
  },
  {
   "cell_type": "markdown",
   "metadata": {},
   "source": [
    "A expressão a seguir é falsa porque 6 na 1ª condição não está contido no range(1, 6). O número 6 é intervalo aberto. <br>\n",
    "O segundo parentesis da expressão que fecha a expressão com as duas\n",
    "condições, está fazendo a ligação com a função range()"
   ]
  },
  {
   "cell_type": "code",
   "execution_count": 4,
   "metadata": {},
   "outputs": [
    {
     "name": "stdout",
     "output_type": "stream",
     "text": [
      "False\n"
     ]
    }
   ],
   "source": [
    "print(((1 and 6) or (5 and 6)) in range(1,6))"
   ]
  },
  {
   "cell_type": "markdown",
   "metadata": {},
   "source": [
    "A expressão a seguir é falsa porque 6 da 1ª condição não está contido no range(1, 6). O número 6 é intervalo aberto. <br>\n",
    "Se a primeira condição é falsa, o Python não testa a segunda condição."
   ]
  },
  {
   "cell_type": "code",
   "execution_count": 5,
   "metadata": {},
   "outputs": [
    {
     "name": "stdout",
     "output_type": "stream",
     "text": [
      "False\n"
     ]
    }
   ],
   "source": [
    "print(((5 and 6) or (1 and 3)) in range(1,6))"
   ]
  },
  {
   "cell_type": "markdown",
   "metadata": {},
   "source": [
    "O mesmo critério é adotado aqui. Neste caso, será verdadeiro."
   ]
  },
  {
   "cell_type": "code",
   "execution_count": 6,
   "metadata": {},
   "outputs": [
    {
     "name": "stdout",
     "output_type": "stream",
     "text": [
      "True\n"
     ]
    }
   ],
   "source": [
    "print(((1 and 3) or (5 and 6)) in range(1,6))"
   ]
  },
  {
   "cell_type": "markdown",
   "metadata": {},
   "source": [
    "Para que o Python teste as duas condições, substitue or por and. <br>\n",
    "Assim, a segunda expressão é verdadeira e a primeira falsa. <br>\n",
    "Neste caso a expressão inteira é considerada verdadeira. <br>\n",
    "É verdadeira porque o operador <b>and</b> entre as duas condições\n",
    "força o python a testar as duas. Como a segunda é verdadeira,\n",
    "então, prevalece o resultado dela descartando a primeira."
   ]
  },
  {
   "cell_type": "code",
   "execution_count": 7,
   "metadata": {},
   "outputs": [
    {
     "name": "stdout",
     "output_type": "stream",
     "text": [
      "True\n"
     ]
    }
   ],
   "source": [
    "a=5\n",
    "b=6\n",
    "c=1\n",
    "d=3\n",
    "print(((a and b) and (c and d)) in range(1,6))"
   ]
  },
  {
   "cell_type": "markdown",
   "metadata": {},
   "source": [
    "Neste caso, como existe o operador or entre as duas condições. Assim, o python\n",
    "faz o teste da primeira condição e fornece o resultado dela descartando\n",
    "o teste da segunda condição. <br>\n",
    "Neste caso, a resposta será falsa porque o operador <b>and</b> da primeira condição força o Python a testar as duas variáveis <b>a</b> e <b>b</b>. A condição seria considerada verdadeira se ambas variáveis fossem verdadeiras, mas, como apenas a variável <b>a</b> é verdadeira e <b>b</b> falsa, então a condição será falsa."
   ]
  },
  {
   "cell_type": "code",
   "execution_count": 8,
   "metadata": {},
   "outputs": [
    {
     "name": "stdout",
     "output_type": "stream",
     "text": [
      "False\n"
     ]
    }
   ],
   "source": [
    "print(((a and b) or (c and d)) in range(1,6))"
   ]
  },
  {
   "cell_type": "markdown",
   "metadata": {},
   "source": [
    "A expressão a seguir é verdadeira porque o número 3 está contido no range(1,6). <br>\n",
    "Como existe o operador or entre as duas condições então se a primeira condição estiver correta, toda expressão estará correta."
   ]
  },
  {
   "cell_type": "code",
   "execution_count": 9,
   "metadata": {},
   "outputs": [
    {
     "name": "stdout",
     "output_type": "stream",
     "text": [
      "True\n"
     ]
    }
   ],
   "source": [
    "print(((1 and 3) or (5 and 6)) in range(1,6))"
   ]
  },
  {
   "cell_type": "markdown",
   "metadata": {},
   "source": [
    "A expressão é falsa porque 10, que é testado primeiro, não está contido no range(1,6). Isso acontece por causa do operador or.<br>\n",
    "O segundo número, o nº 2, não será testado pelo Python."
   ]
  },
  {
   "cell_type": "code",
   "execution_count": 14,
   "metadata": {},
   "outputs": [
    {
     "name": "stdout",
     "output_type": "stream",
     "text": [
      "False\n"
     ]
    }
   ],
   "source": [
    "print((10 or 2) in range(1,6))"
   ]
  },
  {
   "cell_type": "markdown",
   "metadata": {},
   "source": [
    "A expressão é verdadeira porque 2, que é testado primeiro, está contido no range(1,6). <br>\n",
    "Isso acontece por causa do operador or. <br>\n",
    "O segundo número, o nº 10, não será testado pelo Python."
   ]
  },
  {
   "cell_type": "code",
   "execution_count": 11,
   "metadata": {},
   "outputs": [
    {
     "name": "stdout",
     "output_type": "stream",
     "text": [
      "True\n"
     ]
    }
   ],
   "source": [
    "print((2 or 10) in range(1,6))"
   ]
  },
  {
   "cell_type": "markdown",
   "metadata": {},
   "source": [
    "A expressão é verdadeira porque 10, que é testado primeiro, não está contido no range(1,6), mas, o 2 esta. Isso acontece por causa do operador <b>and</b>.<br>\n",
    "O python privilegia o segundo número com o operador <b>and</b>, o nº <b>2</b>,"
   ]
  },
  {
   "cell_type": "code",
   "execution_count": 12,
   "metadata": {},
   "outputs": [
    {
     "name": "stdout",
     "output_type": "stream",
     "text": [
      "True\n"
     ]
    }
   ],
   "source": [
    "print((10 and 2) in range(1,6))"
   ]
  },
  {
   "cell_type": "markdown",
   "metadata": {},
   "source": [
    "A expressão é falsa porque 2, que é testado primeiro, está contido no range(1,6), mas, o número 10 que esta depois do and nao consta no intervalo. Para ser verdadeira, a condição deveria ser verdadeira para ambos os números."
   ]
  },
  {
   "cell_type": "code",
   "execution_count": 15,
   "metadata": {},
   "outputs": [
    {
     "name": "stdout",
     "output_type": "stream",
     "text": [
      "False\n"
     ]
    }
   ],
   "source": [
    "print((2 and 10) in range(1,6))"
   ]
  },
  {
   "cell_type": "markdown",
   "metadata": {},
   "source": [
    "### Atençao: Este curto circuito acontece apenas na funçao range."
   ]
  },
  {
   "cell_type": "markdown",
   "metadata": {},
   "source": [
    "### Obrigado"
   ]
  }
 ],
 "metadata": {
  "kernelspec": {
   "display_name": "Python 3 (ipykernel)",
   "language": "python",
   "name": "python3"
  },
  "language_info": {
   "codemirror_mode": {
    "name": "ipython",
    "version": 3
   },
   "file_extension": ".py",
   "mimetype": "text/x-python",
   "name": "python",
   "nbconvert_exporter": "python",
   "pygments_lexer": "ipython3",
   "version": "3.12.6"
  }
 },
 "nbformat": 4,
 "nbformat_minor": 4
}
